{
 "cells": [
  {
   "cell_type": "code",
   "execution_count": 1,
   "id": "b86afa37",
   "metadata": {},
   "outputs": [],
   "source": [
    "from dotenv import load_dotenv\n",
    "import os\n",
    "load_dotenv()\n",
    "KEY = os.getenv(\"API_KEY\")"
   ]
  },
  {
   "cell_type": "code",
   "execution_count": 27,
   "id": "3c96d481",
   "metadata": {},
   "outputs": [
    {
     "name": "stdout",
     "output_type": "stream",
     "text": [
      "Certainly! Here are two reasons to learn the OpenAI API with Python:\n",
      "\n",
      "1. **Versatility and Integration**: Python is a versatile programming language with a rich ecosystem of libraries and frameworks, making it ideal for integrating OpenAI's capabilities into a wide range of applications. Whether you're working on web development, data analysis, machine learning, or automation, Python provides the tools necessary to seamlessly incorporate OpenAI's models into your projects. This allows developers and businesses to leverage powerful AI functionalities, such as natural language processing, content generation, and more, in a way that can be tailored to their specific needs.\n",
      "\n",
      "2. **Ease of Use and Community Support**: Python is known for its simplicity and readability, which makes it accessible for both beginners and experienced developers. The OpenAI API provides comprehensive documentation and examples in Python, helping users get up and running quickly. Additionally, the Python community is large and active, offering a wealth of resources, forums, and tutorials. This support network can be invaluable when learning how to effectively use the OpenAI API, troubleshoot issues, and share knowledge with others who are working on similar AI projects.\n"
     ]
    }
   ],
   "source": [
    "# Sample Call OpenAI API\n",
    "from openai import OpenAI\n",
    "client = OpenAI(api_key=KEY)\n",
    "response = client.chat.completions.create(\n",
    "    model = 'gpt-4o',\n",
    "    messages= [\n",
    "        {\"role\" :\"user\", \"content\":'Give me two reason to learn OpenAI API with python'}\n",
    "        ],\n",
    "    max_tokens= 300,\n",
    "    temperature=0.7\n",
    "    )\n",
    "print(response.choices[0].message.content)"
   ]
  },
  {
   "cell_type": "markdown",
   "id": "dac90374",
   "metadata": {},
   "source": [
    "## LLM Models"
   ]
  },
  {
   "cell_type": "code",
   "execution_count": 64,
   "id": "f0226036",
   "metadata": {},
   "outputs": [
    {
     "name": "stdout",
     "output_type": "stream",
     "text": [
      " Despite being demoted from the status of a planet in 2006, Pluto is still considered a dwarf planet and the largest object in the Kuiper Belt, a region beyond Neptune in our solar system. Pluto was also the first Kuiper Belt object to be discovered, in 1930 by American astronomer Clyde Tombaugh.\n"
     ]
    }
   ],
   "source": [
    "from langchain.llms import OpenAI\n",
    "llm = OpenAI(openai_api_key = KEY)\n",
    "print(llm(\"Here is a fun fact about Pluto:\"))"
   ]
  },
  {
   "cell_type": "code",
   "execution_count": 65,
   "id": "863e8809",
   "metadata": {},
   "outputs": [],
   "source": [
    "result = llm.generate([\"Here is a fun fact about Pluto:\", \"Here is a fact about Mars:\"])"
   ]
  },
  {
   "cell_type": "code",
   "execution_count": 31,
   "id": "dbeb8183",
   "metadata": {},
   "outputs": [
    {
     "name": "stderr",
     "output_type": "stream",
     "text": [
      "/var/folders/h7/b15g85l92dn190r8lmphbc_80000gn/T/ipykernel_4358/1055484195.py:1: PydanticDeprecatedSince20: The `schema` method is deprecated; use `model_json_schema` instead. Deprecated in Pydantic V2.0 to be removed in V3.0. See Pydantic V2 Migration Guide at https://errors.pydantic.dev/2.11/migration/\n",
      "  result.schema()\n"
     ]
    },
    {
     "data": {
      "text/plain": [
       "{'$defs': {'BaseMessage': {'additionalProperties': True,\n",
       "   'description': 'Base abstract message class.\\n\\nMessages are the inputs and outputs of ChatModels.',\n",
       "   'properties': {'content': {'anyOf': [{'type': 'string'},\n",
       "      {'items': {'anyOf': [{'type': 'string'},\n",
       "         {'additionalProperties': True, 'type': 'object'}]},\n",
       "       'type': 'array'}],\n",
       "     'title': 'Content'},\n",
       "    'additional_kwargs': {'additionalProperties': True,\n",
       "     'title': 'Additional Kwargs',\n",
       "     'type': 'object'},\n",
       "    'response_metadata': {'additionalProperties': True,\n",
       "     'title': 'Response Metadata',\n",
       "     'type': 'object'},\n",
       "    'type': {'title': 'Type', 'type': 'string'},\n",
       "    'name': {'anyOf': [{'type': 'string'}, {'type': 'null'}],\n",
       "     'default': None,\n",
       "     'title': 'Name'},\n",
       "    'id': {'anyOf': [{'type': 'string'}, {'type': 'null'}],\n",
       "     'default': None,\n",
       "     'title': 'Id'}},\n",
       "   'required': ['content', 'type'],\n",
       "   'title': 'BaseMessage',\n",
       "   'type': 'object'},\n",
       "  'BaseMessageChunk': {'additionalProperties': True,\n",
       "   'description': 'Message chunk, which can be concatenated with other Message chunks.',\n",
       "   'properties': {'content': {'anyOf': [{'type': 'string'},\n",
       "      {'items': {'anyOf': [{'type': 'string'},\n",
       "         {'additionalProperties': True, 'type': 'object'}]},\n",
       "       'type': 'array'}],\n",
       "     'title': 'Content'},\n",
       "    'additional_kwargs': {'additionalProperties': True,\n",
       "     'title': 'Additional Kwargs',\n",
       "     'type': 'object'},\n",
       "    'response_metadata': {'additionalProperties': True,\n",
       "     'title': 'Response Metadata',\n",
       "     'type': 'object'},\n",
       "    'type': {'title': 'Type', 'type': 'string'},\n",
       "    'name': {'anyOf': [{'type': 'string'}, {'type': 'null'}],\n",
       "     'default': None,\n",
       "     'title': 'Name'},\n",
       "    'id': {'anyOf': [{'type': 'string'}, {'type': 'null'}],\n",
       "     'default': None,\n",
       "     'title': 'Id'}},\n",
       "   'required': ['content', 'type'],\n",
       "   'title': 'BaseMessageChunk',\n",
       "   'type': 'object'},\n",
       "  'ChatGeneration': {'description': 'A single chat generation output.\\n\\nA subclass of Generation that represents the response from a chat model\\nthat generates chat messages.\\n\\nThe `message` attribute is a structured representation of the chat message.\\nMost of the time, the message will be of type `AIMessage`.\\n\\nUsers working with chat models will usually access information via either\\n`AIMessage` (returned from runnable interfaces) or `LLMResult` (available\\nvia callbacks).',\n",
       "   'properties': {'generation_info': {'anyOf': [{'additionalProperties': True,\n",
       "       'type': 'object'},\n",
       "      {'type': 'null'}],\n",
       "     'default': None,\n",
       "     'title': 'Generation Info'},\n",
       "    'type': {'const': 'ChatGeneration',\n",
       "     'default': 'ChatGeneration',\n",
       "     'title': 'Type',\n",
       "     'type': 'string'},\n",
       "    'message': {'$ref': '#/$defs/BaseMessage'}},\n",
       "   'required': ['message'],\n",
       "   'title': 'ChatGeneration',\n",
       "   'type': 'object'},\n",
       "  'ChatGenerationChunk': {'description': 'ChatGeneration chunk.\\n\\nChatGeneration chunks can be concatenated with other ChatGeneration chunks.',\n",
       "   'properties': {'generation_info': {'anyOf': [{'additionalProperties': True,\n",
       "       'type': 'object'},\n",
       "      {'type': 'null'}],\n",
       "     'default': None,\n",
       "     'title': 'Generation Info'},\n",
       "    'type': {'const': 'ChatGenerationChunk',\n",
       "     'default': 'ChatGenerationChunk',\n",
       "     'title': 'Type',\n",
       "     'type': 'string'},\n",
       "    'message': {'$ref': '#/$defs/BaseMessageChunk'}},\n",
       "   'required': ['message'],\n",
       "   'title': 'ChatGenerationChunk',\n",
       "   'type': 'object'},\n",
       "  'Generation': {'description': 'A single text generation output.\\n\\nGeneration represents the response from an \"old-fashioned\" LLM that\\ngenerates regular text (not chat messages).\\n\\nThis model is used internally by chat model and will eventually\\nbe mapped to a more general `LLMResult` object, and then projected into\\nan `AIMessage` object.\\n\\nLangChain users working with chat models will usually access information via\\n`AIMessage` (returned from runnable interfaces) or `LLMResult` (available\\nvia callbacks). Please refer the `AIMessage` and `LLMResult` schema documentation\\nfor more information.',\n",
       "   'properties': {'generation_info': {'anyOf': [{'additionalProperties': True,\n",
       "       'type': 'object'},\n",
       "      {'type': 'null'}],\n",
       "     'default': None,\n",
       "     'title': 'Generation Info'},\n",
       "    'type': {'const': 'Generation',\n",
       "     'default': 'Generation',\n",
       "     'title': 'Type',\n",
       "     'type': 'string'}},\n",
       "   'title': 'Generation',\n",
       "   'type': 'object'},\n",
       "  'GenerationChunk': {'description': 'Generation chunk, which can be concatenated with other Generation chunks.',\n",
       "   'properties': {'generation_info': {'anyOf': [{'additionalProperties': True,\n",
       "       'type': 'object'},\n",
       "      {'type': 'null'}],\n",
       "     'default': None,\n",
       "     'title': 'Generation Info'},\n",
       "    'type': {'const': 'Generation',\n",
       "     'default': 'Generation',\n",
       "     'title': 'Type',\n",
       "     'type': 'string'}},\n",
       "   'title': 'GenerationChunk',\n",
       "   'type': 'object'},\n",
       "  'RunInfo': {'description': 'Class that contains metadata for a single execution of a Chain or model.\\n\\nDefined for backwards compatibility with older versions of langchain_core.\\n\\nThis model will likely be deprecated in the future.\\n\\nUsers can acquire the run_id information from callbacks or via run_id\\ninformation present in the astream_event API (depending on the use case).',\n",
       "   'properties': {'run_id': {'format': 'uuid',\n",
       "     'title': 'Run Id',\n",
       "     'type': 'string'}},\n",
       "   'required': ['run_id'],\n",
       "   'title': 'RunInfo',\n",
       "   'type': 'object'}},\n",
       " 'description': 'A container for results of an LLM call.\\n\\nBoth chat models and LLMs generate an LLMResult object. This object contains\\nthe generated outputs and any additional information that the model provider\\nwants to return.',\n",
       " 'properties': {'generations': {'items': {'items': {'anyOf': [{'$ref': '#/$defs/Generation'},\n",
       "      {'$ref': '#/$defs/ChatGeneration'},\n",
       "      {'$ref': '#/$defs/GenerationChunk'},\n",
       "      {'$ref': '#/$defs/ChatGenerationChunk'}]},\n",
       "    'type': 'array'},\n",
       "   'title': 'Generations',\n",
       "   'type': 'array'},\n",
       "  'llm_output': {'anyOf': [{'additionalProperties': True, 'type': 'object'},\n",
       "    {'type': 'null'}],\n",
       "   'default': None,\n",
       "   'title': 'Llm Output'},\n",
       "  'run': {'anyOf': [{'items': {'$ref': '#/$defs/RunInfo'}, 'type': 'array'},\n",
       "    {'type': 'null'}],\n",
       "   'default': None,\n",
       "   'title': 'Run'},\n",
       "  'type': {'const': 'LLMResult',\n",
       "   'default': 'LLMResult',\n",
       "   'title': 'Type',\n",
       "   'type': 'string'}},\n",
       " 'required': ['generations'],\n",
       " 'title': 'LLMResult',\n",
       " 'type': 'object'}"
      ]
     },
     "execution_count": 31,
     "metadata": {},
     "output_type": "execute_result"
    }
   ],
   "source": [
    "result.schema()"
   ]
  },
  {
   "cell_type": "code",
   "execution_count": 32,
   "id": "0c2ca3fc",
   "metadata": {},
   "outputs": [
    {
     "name": "stdout",
     "output_type": "stream",
     "text": [
      "\n",
      "\n",
      "Mars is the fourth planet from the Sun in the solar system and is often referred to as the \"Red Planet\" due to its reddish appearance. It is the second smallest planet in our solar system, after Mercury, and has a thin atmosphere made up mostly of carbon dioxide. Its surface is covered in rust-colored dust and rocks, with the largest volcano in the solar system, Olympus Mons, standing at 22 kilometers (13.6 miles) tall. Mars is also home to the largest canyon in the solar system, Valles Marineris, which stretches over 4,000 kilometers (2,500 miles) long.\n"
     ]
    }
   ],
   "source": [
    "print(result.generations[1][0].text)"
   ]
  },
  {
   "cell_type": "markdown",
   "id": "b881b7ba",
   "metadata": {},
   "source": [
    "## Chat Models"
   ]
  },
  {
   "cell_type": "code",
   "execution_count": 4,
   "id": "43adfd61",
   "metadata": {},
   "outputs": [
    {
     "name": "stderr",
     "output_type": "stream",
     "text": [
      "/var/folders/h7/b15g85l92dn190r8lmphbc_80000gn/T/ipykernel_24112/1000687901.py:3: LangChainDeprecationWarning: The class `ChatOpenAI` was deprecated in LangChain 0.0.10 and will be removed in 1.0. An updated version of the class exists in the :class:`~langchain-openai package and should be used instead. To use it run `pip install -U :class:`~langchain-openai` and import as `from :class:`~langchain_openai import ChatOpenAI``.\n",
      "  chat = ChatOpenAI(openai_api_key=KEY)\n"
     ]
    }
   ],
   "source": [
    "from langchain.chat_models import ChatOpenAI\n",
    "from langchain.schema import AIMessage, HumanMessage, SystemMessage\n",
    "chat = ChatOpenAI(openai_api_key=KEY)"
   ]
  },
  {
   "cell_type": "code",
   "execution_count": 45,
   "id": "2c263f8e",
   "metadata": {},
   "outputs": [
    {
     "name": "stdout",
     "output_type": "stream",
     "text": [
      "Pluto is a dwarf planet located in the outer regions of our solar system. It was previously considered the ninth planet but was reclassified as a dwarf planet by the International Astronomical Union in 2006. Pluto is known for its eccentric orbit and small size, with a diameter of about 1,473 miles (2,370 kilometers). It has five known moons, the largest of which is Charon. Pluto is composed mostly of rock and ice, and its surface features frozen nitrogen, methane, and carbon monoxide. It takes about 248 Earth years for Pluto to complete one orbit around the Sun.\n"
     ]
    }
   ],
   "source": [
    "result = chat(\n",
    "    [SystemMessage(content='You are a very helpful assistant'),\n",
    "    HumanMessage(content='Tell me something about Pluto')]\n",
    "    )\n",
    "print(result.content)"
   ]
  },
  {
   "cell_type": "code",
   "execution_count": 50,
   "id": "6475e390",
   "metadata": {},
   "outputs": [
    {
     "data": {
      "text/plain": [
       "\"Pluto is a dwarf planet located in our solar system, orbiting the Sun beyond Neptune. It was considered the ninth planet in our solar system until 2006 when it was reclassified as a dwarf planet by the International Astronomical Union. Pluto is known for its small size, icy surface, and elongated orbit. It has five known moons, with the largest being Charon. Pluto's distance from the Sun means that it is very cold, with temperatures reaching as low as -375 degrees Fahrenheit (-225 degrees Celsius). It was visited by the New Horizons spacecraft in 2015, providing valuable data and images of this distant world.\""
      ]
     },
     "execution_count": 50,
     "metadata": {},
     "output_type": "execute_result"
    }
   ],
   "source": [
    "result = chat.generate([\n",
    "    [SystemMessage(content='You are a very rude assistant, and dont want to answer question'),\n",
    "    HumanMessage(content='Tell me something about Pluto')],\n",
    "    [SystemMessage(content='You are a very helpful assistant'),\n",
    "    HumanMessage(content='Tell me something about Pluto')]\n",
    "              ])\n",
    "\n",
    "result.generations[1][0].text"
   ]
  },
  {
   "cell_type": "code",
   "execution_count": 60,
   "id": "4d653d76",
   "metadata": {},
   "outputs": [
    {
     "data": {
      "text/plain": [
       "'Pluto is a dwarf planet located in the outer regions of our solar system, beyond the orbit of'"
      ]
     },
     "execution_count": 60,
     "metadata": {},
     "output_type": "execute_result"
    }
   ],
   "source": [
    "result = chat(\n",
    "    [SystemMessage(content='You are a very helpful assistant'),\n",
    "    HumanMessage(content='Tell me something about Pluto')],\n",
    "    temperature=0, max_tokens=20\n",
    "    )\n",
    "result.content"
   ]
  },
  {
   "cell_type": "markdown",
   "id": "f01782d9",
   "metadata": {},
   "source": [
    "### Using In Memory Cache"
   ]
  },
  {
   "cell_type": "code",
   "execution_count": null,
   "id": "5c18a08d",
   "metadata": {},
   "outputs": [],
   "source": [
    "import langchain\n",
    "from langchain.cache import InMemoryCache\n",
    "langchain.llm_cache = InMemoryCache()"
   ]
  },
  {
   "cell_type": "code",
   "execution_count": 68,
   "id": "1d99dd31",
   "metadata": {},
   "outputs": [
    {
     "data": {
      "text/plain": [
       "'\\n\\nMars is the fourth planet from the sun and is often referred to as the \"Red Planet\" due to its reddish appearance caused by iron oxide on its surface.'"
      ]
     },
     "execution_count": 68,
     "metadata": {},
     "output_type": "execute_result"
    }
   ],
   "source": [
    "llm.predict('Tell me a fact about Mars')"
   ]
  }
 ],
 "metadata": {
  "kernelspec": {
   "display_name": "langchain-py3.12 (3.12.3)",
   "language": "python",
   "name": "python3"
  },
  "language_info": {
   "codemirror_mode": {
    "name": "ipython",
    "version": 3
   },
   "file_extension": ".py",
   "mimetype": "text/x-python",
   "name": "python",
   "nbconvert_exporter": "python",
   "pygments_lexer": "ipython3",
   "version": "3.12.3"
  }
 },
 "nbformat": 4,
 "nbformat_minor": 5
}
