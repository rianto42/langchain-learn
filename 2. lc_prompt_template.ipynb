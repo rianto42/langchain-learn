{
 "cells": [
  {
   "cell_type": "code",
   "execution_count": 1,
   "id": "7993dd72",
   "metadata": {},
   "outputs": [],
   "source": [
    "from dotenv import load_dotenv\n",
    "import os\n",
    "load_dotenv()\n",
    "KEY = os.getenv(\"API_KEY\")"
   ]
  },
  {
   "cell_type": "code",
   "execution_count": 3,
   "id": "3a7bb12a",
   "metadata": {},
   "outputs": [],
   "source": [
    "from langchain_community.llms import OpenAI\n",
    "from langchain_community.chat_models import ChatOpenAI"
   ]
  },
  {
   "cell_type": "code",
   "execution_count": 4,
   "id": "b0885e5c",
   "metadata": {},
   "outputs": [
    {
     "name": "stderr",
     "output_type": "stream",
     "text": [
      "/var/folders/h7/b15g85l92dn190r8lmphbc_80000gn/T/ipykernel_24612/3534919463.py:1: LangChainDeprecationWarning: The class `OpenAI` was deprecated in LangChain 0.0.10 and will be removed in 1.0. An updated version of the class exists in the :class:`~langchain-openai package and should be used instead. To use it run `pip install -U :class:`~langchain-openai` and import as `from :class:`~langchain_openai import OpenAI``.\n",
      "  llm = OpenAI(openai_api_key=KEY)\n",
      "/var/folders/h7/b15g85l92dn190r8lmphbc_80000gn/T/ipykernel_24612/3534919463.py:2: LangChainDeprecationWarning: The class `ChatOpenAI` was deprecated in LangChain 0.0.10 and will be removed in 1.0. An updated version of the class exists in the :class:`~langchain-openai package and should be used instead. To use it run `pip install -U :class:`~langchain-openai` and import as `from :class:`~langchain_openai import ChatOpenAI``.\n",
      "  chat = ChatOpenAI(openai_api_key=KEY)\n"
     ]
    }
   ],
   "source": [
    "llm = OpenAI(openai_api_key=KEY)\n",
    "chat = ChatOpenAI(openai_api_key=KEY)"
   ]
  },
  {
   "cell_type": "markdown",
   "id": "01755d49",
   "metadata": {},
   "source": [
    "### LLM"
   ]
  },
  {
   "cell_type": "code",
   "execution_count": 12,
   "id": "67367e76",
   "metadata": {},
   "outputs": [
    {
     "data": {
      "text/plain": [
       "' Venus is the second planet from the sun and is often referred to as Earth\\'s \"sister planet\" due to their similar size and composition. However, Venus has a much harsher environment with a thick atmosphere of sulfuric acid and extreme temperatures reaching up to 864 degrees Fahrenheit. It is also the hottest planet in the solar system, even hotter than Mercury which is closer to the sun. '"
      ]
     },
     "execution_count": 12,
     "metadata": {},
     "output_type": "execute_result"
    }
   ],
   "source": [
    "planet = 'Venus'\n",
    "llm.invoke(f'Here is a fact about {planet}: ')"
   ]
  },
  {
   "cell_type": "code",
   "execution_count": 14,
   "id": "0ec5567e",
   "metadata": {},
   "outputs": [],
   "source": [
    "from langchain_core.prompts import PromptTemplate"
   ]
  },
  {
   "cell_type": "code",
   "execution_count": 25,
   "id": "3803de4d",
   "metadata": {},
   "outputs": [],
   "source": [
    "multi_input_prompt = PromptTemplate(input_variables=['topic', 'level'],\n",
    "                                 template= 'Tell me a fact about {topic} with {level} level')"
   ]
  },
  {
   "cell_type": "code",
   "execution_count": 27,
   "id": "eccae7c4",
   "metadata": {},
   "outputs": [
    {
     "data": {
      "text/plain": [
       "'\\n\\nOne interesting fact about Venus is that it has a unique atmospheric phenomenon called \"super-rotation.\" This means that the atmosphere rotates much faster than the planet\\'s surface, with winds reaching speeds of up to 224 miles per hour at the equator. This is caused by the thick atmosphere, which creates a greenhouse effect and traps heat, leading to extreme temperatures on the surface. The super-rotation of Venus\\' atmosphere is still not fully understood and is a subject of ongoing research in planetary science. '"
      ]
     },
     "execution_count": 27,
     "metadata": {},
     "output_type": "execute_result"
    }
   ],
   "source": [
    "llm.invoke(multi_input_prompt.format(topic='Venus', level='PhD'))"
   ]
  },
  {
   "cell_type": "markdown",
   "id": "1db2bef6",
   "metadata": {},
   "source": [
    "### Chat Model"
   ]
  },
  {
   "cell_type": "code",
   "execution_count": 28,
   "id": "235f3994",
   "metadata": {},
   "outputs": [],
   "source": [
    "from langchain_core.prompts import ChatPromptTemplate, PromptTemplate, SystemMessagePromptTemplate, AIMessagePromptTemplate, HumanMessagePromptTemplate"
   ]
  },
  {
   "cell_type": "code",
   "execution_count": 30,
   "id": "9ac9ed0a",
   "metadata": {},
   "outputs": [],
   "source": [
    "from langchain.schema import AIMessage, HumanMessage, SystemMessage"
   ]
  },
  {
   "cell_type": "code",
   "execution_count": 32,
   "id": "15fd89b8",
   "metadata": {},
   "outputs": [],
   "source": [
    "system_template = \"You are an AI receipe assistant that specializes in {dietary_preference} dishes that can be prepared in {cooking_time}\""
   ]
  },
  {
   "cell_type": "code",
   "execution_count": 33,
   "id": "46b18699",
   "metadata": {},
   "outputs": [],
   "source": [
    "system_message_prompt = SystemMessagePromptTemplate.from_template(system_template)"
   ]
  },
  {
   "cell_type": "code",
   "execution_count": 34,
   "id": "75b6f848",
   "metadata": {},
   "outputs": [],
   "source": [
    "human_template = \"{receipe_request}\""
   ]
  },
  {
   "cell_type": "code",
   "execution_count": 35,
   "id": "f5f949c7",
   "metadata": {},
   "outputs": [],
   "source": [
    "human_message_prompt = HumanMessagePromptTemplate.from_template(human_template)"
   ]
  },
  {
   "cell_type": "code",
   "execution_count": 36,
   "id": "f66efb7e",
   "metadata": {},
   "outputs": [
    {
     "data": {
      "text/plain": [
       "['cooking_time', 'dietary_preference']"
      ]
     },
     "execution_count": 36,
     "metadata": {},
     "output_type": "execute_result"
    }
   ],
   "source": [
    "system_message_prompt.input_variables"
   ]
  },
  {
   "cell_type": "code",
   "execution_count": 37,
   "id": "674d8b61",
   "metadata": {},
   "outputs": [
    {
     "data": {
      "text/plain": [
       "['receipe_request']"
      ]
     },
     "execution_count": 37,
     "metadata": {},
     "output_type": "execute_result"
    }
   ],
   "source": [
    "human_message_prompt.input_variables"
   ]
  },
  {
   "cell_type": "code",
   "execution_count": 38,
   "id": "e053e079",
   "metadata": {},
   "outputs": [],
   "source": [
    "chat_prompt = ChatPromptTemplate.from_messages([system_message_prompt, human_message_prompt])"
   ]
  },
  {
   "cell_type": "code",
   "execution_count": 39,
   "id": "7f58d2aa",
   "metadata": {},
   "outputs": [
    {
     "data": {
      "text/plain": [
       "['cooking_time', 'dietary_preference', 'receipe_request']"
      ]
     },
     "execution_count": 39,
     "metadata": {},
     "output_type": "execute_result"
    }
   ],
   "source": [
    "chat_prompt.input_variables"
   ]
  },
  {
   "cell_type": "code",
   "execution_count": 43,
   "id": "d82635cb",
   "metadata": {},
   "outputs": [],
   "source": [
    "prompt = chat_prompt.format_prompt(cooking_time='5 min',\n",
    "                          dietary_preference='Vegan',\n",
    "                          receipe_request='Quick Snack').to_messages()"
   ]
  },
  {
   "cell_type": "code",
   "execution_count": 45,
   "id": "20afcfef",
   "metadata": {},
   "outputs": [],
   "source": [
    "result = chat.invoke(prompt)"
   ]
  },
  {
   "cell_type": "code",
   "execution_count": 46,
   "id": "4768250f",
   "metadata": {},
   "outputs": [
    {
     "name": "stdout",
     "output_type": "stream",
     "text": [
      "How about making some delicious avocado toast? Here's a quick recipe for you:\n",
      "\n",
      "Ingredients:\n",
      "- 1 ripe avocado\n",
      "- 2 slices of bread (use your favorite kind)\n",
      "- Salt and pepper to taste\n",
      "- Optional toppings: cherry tomatoes, red pepper flakes, nutritional yeast, or sesame seeds\n",
      "\n",
      "Instructions:\n",
      "1. Toast the bread slices until golden brown.\n",
      "2. While the bread is toasting, mash the avocado in a bowl until smooth.\n",
      "3. Spread the mashed avocado evenly on the toasted bread slices.\n",
      "4. Season with salt and pepper, and add any optional toppings you prefer.\n",
      "5. Enjoy your quick and delicious avocado toast!\n"
     ]
    }
   ],
   "source": [
    "print(result.content)"
   ]
  },
  {
   "cell_type": "markdown",
   "id": "389346d4",
   "metadata": {},
   "source": [
    "## Few Shoot Prompt Template"
   ]
  },
  {
   "cell_type": "code",
   "execution_count": 49,
   "id": "1d1ac408",
   "metadata": {},
   "outputs": [],
   "source": [
    "from langchain_community.chat_models import ChatOpenAI\n",
    "from langchain_core.prompts.chat import ChatPromptTemplate,SystemMessagePromptTemplate, HumanMessagePromptTemplate, AIMessagePromptTemplate\n",
    "chat = ChatOpenAI(api_key=KEY)"
   ]
  },
  {
   "cell_type": "code",
   "execution_count": 50,
   "id": "c9538764",
   "metadata": {},
   "outputs": [],
   "source": [
    "# System message\n",
    "system_template = \"Your are a source code analyst, that can summary what the source code does.\"\n",
    "system_message_prompt = SystemMessagePromptTemplate.from_template(system_template)\n",
    "\n",
    "# Example 1\n",
    "source_code_sample = \"\"\"<%@ Page Language=\"C#\" AutoEventWireup=\"true\" CodeBehind=\"Login.aspx.cs\" Inherits=\"YourNamespace.Login\" %>\n",
    "\n",
    "<!DOCTYPE html>\n",
    "<html xmlns=\"http://www.w3.org/1999/xhtml\">\n",
    "<head runat=\"server\">\n",
    "    <title>Login Form</title>\n",
    "</head>\n",
    "<body>\n",
    "    <form id=\"form1\" runat=\"server\">\n",
    "        <div style=\"width: 300px; margin: 0 auto; padding: 30px; border: 1px solid #ccc;\">\n",
    "            <h2>Login</h2>\n",
    "            <asp:Label ID=\"lblMessage\" runat=\"server\" ForeColor=\"Red\"></asp:Label><br />\n",
    "            <asp:Label ID=\"lblUsername\" runat=\"server\" Text=\"Username: \"></asp:Label><br />\n",
    "            <asp:TextBox ID=\"txtUsername\" runat=\"server\"></asp:TextBox><br /><br />\n",
    "\n",
    "            <asp:Label ID=\"lblPassword\" runat=\"server\" Text=\"Password: \"></asp:Label><br />\n",
    "            <asp:TextBox ID=\"txtPassword\" runat=\"server\" TextMode=\"Password\"></asp:TextBox><br /><br />\n",
    "\n",
    "            <asp:Button ID=\"btnLogin\" runat=\"server\" Text=\"Login\" OnClick=\"btnLogin_Click\" />\n",
    "        </div>\n",
    "    </form>\n",
    "</body>\n",
    "</html>\n",
    "\"\"\"\n",
    "example_input_one = HumanMessagePromptTemplate.from_template(source_code_sample)\n",
    "\n",
    "source_code_conclusion = \"\"\"This source code consist of:\n",
    "                            1. two Textbox and two label, which are username and password\n",
    "                            2. one button, for action login\n",
    "                            3. one label for response message\"\"\"\n",
    "example_output_one = AIMessagePromptTemplate.from_template(source_code_conclusion)"
   ]
  },
  {
   "cell_type": "code",
   "execution_count": 51,
   "id": "241a062a",
   "metadata": {},
   "outputs": [],
   "source": [
    "human_template = \"{source_code}\"\n",
    "human_message_prompt = HumanMessagePromptTemplate.from_template(human_template)"
   ]
  },
  {
   "cell_type": "code",
   "execution_count": 53,
   "id": "308027fc",
   "metadata": {},
   "outputs": [],
   "source": [
    "chat_prompt = ChatPromptTemplate.from_messages(\n",
    "    [system_message_prompt, example_input_one, example_output_one, human_message_prompt]\n",
    ")"
   ]
  },
  {
   "cell_type": "code",
   "execution_count": 55,
   "id": "cc849281",
   "metadata": {},
   "outputs": [],
   "source": [
    "test_source_code = \"\"\"\n",
    "<%@ Page Language=\"C#\" AutoEventWireup=\"true\" CodeBehind=\"FinancialEntityRegistration.aspx.cs\" Inherits=\"YourNamespace.FinancialEntityRegistration\" %>\n",
    "\n",
    "<!DOCTYPE html>\n",
    "<html xmlns=\"http://www.w3.org/1999/xhtml\">\n",
    "<head runat=\"server\">\n",
    "    <title>Financial Entity Registration</title>\n",
    "</head>\n",
    "<body>\n",
    "    <form id=\"form1\" runat=\"server\">\n",
    "        <div style=\"width: 400px; margin: 0 auto; padding: 30px; border: 1px solid #ccc;\">\n",
    "            <h2>Register Financial Entity</h2>\n",
    "            <asp:Label ID=\"lblMessage\" runat=\"server\" ForeColor=\"Red\"></asp:Label><br />\n",
    "\n",
    "            <asp:Label Text=\"Entity Name:\" runat=\"server\" /><br />\n",
    "            <asp:TextBox ID=\"txtEntityName\" runat=\"server\" Width=\"100%\" /><br /><br />\n",
    "\n",
    "            <asp:Label Text=\"Entity Type:\" runat=\"server\" /><br />\n",
    "            <asp:DropDownList ID=\"ddlEntityType\" runat=\"server\" Width=\"100%\">\n",
    "                <asp:ListItem Text=\"Bank\" Value=\"Bank\" />\n",
    "                <asp:ListItem Text=\"Insurance\" Value=\"Insurance\" />\n",
    "                <asp:ListItem Text=\"Investment Firm\" Value=\"InvestmentFirm\" />\n",
    "                <asp:ListItem Text=\"Other\" Value=\"Other\" />\n",
    "            </asp:DropDownList><br /><br />\n",
    "\n",
    "            <asp:Label Text=\"Registration Number:\" runat=\"server\" /><br />\n",
    "            <asp:TextBox ID=\"txtRegistrationNumber\" runat=\"server\" Width=\"100%\" /><br /><br />\n",
    "\n",
    "            <asp:Label Text=\"Contact Email:\" runat=\"server\" /><br />\n",
    "            <asp:TextBox ID=\"txtEmail\" runat=\"server\" Width=\"100%\" TextMode=\"Email\" /><br /><br />\n",
    "\n",
    "            <asp:Button ID=\"btnRegister\" runat=\"server\" Text=\"Register\" OnClick=\"btnRegister_Click\" />\n",
    "        </div>\n",
    "    </form>\n",
    "</body>\n",
    "</html>\n",
    "\"\"\"\n",
    "request = chat_prompt.format_prompt(source_code = test_source_code).to_messages()\n"
   ]
  },
  {
   "cell_type": "code",
   "execution_count": 57,
   "id": "e8fcafc9",
   "metadata": {},
   "outputs": [
    {
     "name": "stdout",
     "output_type": "stream",
     "text": [
      "This source code is for a Financial Entity Registration form. It includes:\n",
      "                            1. Entity Name textbox\n",
      "                            2. Entity Type dropdown list with options for Bank, Insurance, Investment Firm, and Other\n",
      "                            3. Registration Number textbox\n",
      "                            4. Contact Email textbox\n",
      "                            5. Register button to submit the form\n",
      "                            6. A label for displaying error or success messages\n"
     ]
    }
   ],
   "source": [
    "result = chat.invoke(request)\n",
    "print(result.content)"
   ]
  }
 ],
 "metadata": {
  "kernelspec": {
   "display_name": "langchain-py3.12 (3.12.3)",
   "language": "python",
   "name": "python3"
  },
  "language_info": {
   "codemirror_mode": {
    "name": "ipython",
    "version": 3
   },
   "file_extension": ".py",
   "mimetype": "text/x-python",
   "name": "python",
   "nbconvert_exporter": "python",
   "pygments_lexer": "ipython3",
   "version": "3.12.3"
  }
 },
 "nbformat": 4,
 "nbformat_minor": 5
}
