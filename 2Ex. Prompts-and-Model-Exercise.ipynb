{
 "cells": [
  {
   "cell_type": "markdown",
   "id": "ede50d4d-6b9b-46b4-946c-edc6bde899c7",
   "metadata": {},
   "source": [
    "<a href = \"https://www.pieriantraining.com\"><img src=\"../PT Centered Purple.png\"> </a>\n",
    "\n",
    "<em style=\"text-align:center\">Copyrighted by Pierian Training</em>"
   ]
  },
  {
   "cell_type": "markdown",
   "id": "6c706772-7bbb-41a9-ab96-6480bc3ef2a3",
   "metadata": {
    "tags": []
   },
   "source": [
    "# Prompts and Models Exercise\n",
    "\n",
    "### NOTE: FEEL FREE TO JUST TREAT THIS AS A CODE ALONG EXAMPLE IF YOU DONT WANT AN EXERCISE BUT RATHER WATCH AN EXAMPLE.\n",
    "\n",
    "**TASK: Create a Python function that uses Prompts and Chat internally to give travel ideas related to two variables:**\n",
    "\n",
    "    * An Interest or Hobby\n",
    "    * A Budget\n",
    "    \n",
    "Remember that you should also decide on a system prompt. The end function will just be a nice wrapper on top of all the previous LangChain components we've discussed earlier."
   ]
  },
  {
   "cell_type": "code",
   "execution_count": 1,
   "id": "b4e6adae-ddfa-403f-afbc-eac1ff964c54",
   "metadata": {},
   "outputs": [],
   "source": [
    "def travel_idea(interest,budget):\n",
    "    '''\n",
    "    INPUTS:\n",
    "        interest: A str interest or hobby (e.g. fishing)\n",
    "        budget: A str budget (e.g. $10,000)\n",
    "    '''\n",
    "    pass"
   ]
  },
  {
   "cell_type": "markdown",
   "id": "34d0ecc5-a526-4a9b-933f-e7785f9401df",
   "metadata": {},
   "source": [
    "**Example Solution**\n",
    "\n",
    "Keep in mind your solution may differ slightly, but as long as it works, that's ok!"
   ]
  },
  {
   "cell_type": "code",
   "execution_count": 1,
   "id": "320be1cb-a639-460d-8472-fb6def536b19",
   "metadata": {},
   "outputs": [],
   "source": [
    "from dotenv import load_dotenv\n",
    "import os\n",
    "load_dotenv()\n",
    "KEY = os.getenv(\"API_KEY\")"
   ]
  },
  {
   "cell_type": "code",
   "execution_count": 24,
   "id": "df2fd2ad-66f9-4462-9436-5cc5e7ea2d7f",
   "metadata": {},
   "outputs": [],
   "source": [
    "# DON\"T FORGET YOUR IMPORTS!\n",
    "from langchain_community.chat_models import ChatOpenAI\n",
    "from langchain_core.prompts import ChatPromptTemplate, HumanMessagePromptTemplate, SystemMessagePromptTemplate, AIMessagePromptTemplate\n",
    "\n",
    "def travel_idea(interest,budget):\n",
    "    '''\n",
    "    INPUTS:\n",
    "        interest: A str interest or hobby (e.g. fishing)\n",
    "        budget: A str budget (e.g. $10,000)\n",
    "    '''\n",
    "    system_template = \"You are a kind travel planner expert about {activity} for budget of {budget} dollar\"\n",
    "    system_message_prompt = SystemMessagePromptTemplate.from_template(system_template)\n",
    "\n",
    "    human_template = \"Please give me some example of itinerary\"\n",
    "    human_message_prompt = HumanMessagePromptTemplate.from_template(human_template)\n",
    "\n",
    "    chat_prompt = ChatPromptTemplate.from_messages([system_message_prompt, human_message_prompt])\n",
    "    request = chat_prompt.format_prompt(activity=interest, budget=budget).to_messages()\n",
    "\n",
    "    chat = ChatOpenAI(openai_api_key=KEY)\n",
    "    return chat.invoke(request).content"
   ]
  },
  {
   "cell_type": "code",
   "execution_count": 25,
   "id": "f7e240b6-96cf-4163-ad19-90a44cf7ef24",
   "metadata": {},
   "outputs": [
    {
     "name": "stdout",
     "output_type": "stream",
     "text": [
      "Certainly! Here is a sample itinerary for a fishing trip with a budget of $10,000:\n",
      "\n",
      "Destination: Florida Keys\n",
      "\n",
      "Day 1-3:\n",
      "- Fly into Miami International Airport\n",
      "- Rent a car and drive to Islamorada in the Florida Keys\n",
      "- Check into a budget-friendly hotel or Airbnb\n",
      "- Spend the first day exploring the town and relaxing on the beach\n",
      "- On day 2 and 3, go on a full-day fishing charter to catch some of the region's famous game fish such as tarpon, bonefish, and permit\n",
      "\n",
      "Day 4-6:\n",
      "- Drive to Marathon Key and check into a budget-friendly accommodation\n",
      "- Spend the next few days fishing in the waters around Marathon Key for species like mahi-mahi, snapper, and grouper\n",
      "- Consider booking a half-day fishing trip to explore the backcountry waters for a different fishing experience\n",
      "\n",
      "Day 7-9:\n",
      "- Drive to Key West and check into a budget-friendly hotel or guesthouse\n",
      "- Explore the vibrant town of Key West and enjoy the local seafood restaurants\n",
      "- Go on a full-day offshore fishing charter to target pelagic species like sailfish, tuna, and wahoo\n",
      "\n",
      "Day 10:\n",
      "- Drive back to Miami and spend the day exploring the city before your flight home\n",
      "\n",
      "This itinerary allows for a mix of different fishing experiences in the diverse waters of the Florida Keys while staying within your budget of $10,000. Don't forget to budget for meals, transportation, and any additional activities or souvenirs you may want to purchase along the way. Enjoy your fishing adventure!\n"
     ]
    }
   ],
   "source": [
    "print(travel_idea('fishing','$10,000'))"
   ]
  }
 ],
 "metadata": {
  "kernelspec": {
   "display_name": "langchain-py3.12 (3.12.3)",
   "language": "python",
   "name": "python3"
  },
  "language_info": {
   "codemirror_mode": {
    "name": "ipython",
    "version": 3
   },
   "file_extension": ".py",
   "mimetype": "text/x-python",
   "name": "python",
   "nbconvert_exporter": "python",
   "pygments_lexer": "ipython3",
   "version": "3.12.3"
  }
 },
 "nbformat": 4,
 "nbformat_minor": 5
}
