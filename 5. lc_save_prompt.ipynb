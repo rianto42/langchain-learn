{
 "cells": [
  {
   "cell_type": "code",
   "execution_count": 2,
   "id": "39e68603",
   "metadata": {},
   "outputs": [],
   "source": [
    "from dotenv import load_dotenv\n",
    "import os\n",
    "load_dotenv()\n",
    "KEY = os.getenv(\"API_KEY\")\n",
    "\n",
    "from langchain_openai import ChatOpenAI\n",
    "from langchain_core.prompts.chat import ChatPromptTemplate,SystemMessagePromptTemplate, HumanMessagePromptTemplate, AIMessagePromptTemplate\n",
    "model = ChatOpenAI(api_key=KEY)"
   ]
  },
  {
   "cell_type": "code",
   "execution_count": 2,
   "id": "d8c9576b",
   "metadata": {},
   "outputs": [],
   "source": [
    "from langchain import PromptTemplate"
   ]
  },
  {
   "cell_type": "code",
   "execution_count": 3,
   "id": "55b12c53",
   "metadata": {},
   "outputs": [],
   "source": [
    "template = \"Tell me a fact about {planet}\"\n",
    "prompt = PromptTemplate(template=template, input_variables=[\"planet\"])"
   ]
  },
  {
   "cell_type": "code",
   "execution_count": 4,
   "id": "030a6ee3",
   "metadata": {},
   "outputs": [],
   "source": [
    "prompt.save(\"myprompt.json\")"
   ]
  },
  {
   "cell_type": "code",
   "execution_count": 5,
   "id": "06c47e0f",
   "metadata": {},
   "outputs": [],
   "source": [
    "from langchain.prompts import load_prompt"
   ]
  },
  {
   "cell_type": "code",
   "execution_count": 6,
   "id": "84a3086b",
   "metadata": {},
   "outputs": [],
   "source": [
    "loaded_prompt = load_prompt(\"myprompt.json\")"
   ]
  },
  {
   "cell_type": "code",
   "execution_count": 7,
   "id": "b68c5e26",
   "metadata": {},
   "outputs": [
    {
     "data": {
      "text/plain": [
       "PromptTemplate(input_variables=['planet'], input_types={}, partial_variables={}, template='Tell me a fact about {planet}')"
      ]
     },
     "execution_count": 7,
     "metadata": {},
     "output_type": "execute_result"
    }
   ],
   "source": [
    "loaded_prompt"
   ]
  }
 ],
 "metadata": {
  "kernelspec": {
   "display_name": "langchain-py3.12 (3.12.3)",
   "language": "python",
   "name": "python3"
  },
  "language_info": {
   "codemirror_mode": {
    "name": "ipython",
    "version": 3
   },
   "file_extension": ".py",
   "mimetype": "text/x-python",
   "name": "python",
   "nbconvert_exporter": "python",
   "pygments_lexer": "ipython3",
   "version": "3.12.3"
  }
 },
 "nbformat": 4,
 "nbformat_minor": 5
}
