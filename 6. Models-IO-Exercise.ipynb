{
 "cells": [
  {
   "cell_type": "markdown",
   "id": "378f3df7-19b9-49a1-b695-5d578138b4ae",
   "metadata": {},
   "source": [
    "<a href = \"https://www.pieriantraining.com\"><img src=\"../PT Centered Purple.png\"> </a>\n",
    "\n",
    "<em style=\"text-align:center\">Copyrighted by Pierian Training</em>"
   ]
  },
  {
   "cell_type": "markdown",
   "id": "cf5ff2a8-fcc1-4ef6-a91b-a56f29a0fc2c",
   "metadata": {},
   "source": [
    "# Model IO Exercise \n",
    "\n",
    "The purpose of this exercise is to test your understanding of building out Model IO systems. You will also hopefully notice the need to chain responses together, which we will cover later in this course!\n",
    "\n",
    "Watch the video for a full overview on minimum outputs this class should be capable of, but feel free to expand on this project, or to just treat it as a code-along!"
   ]
  },
  {
   "cell_type": "markdown",
   "id": "6f36f621-d2cb-43e7-89ad-41691ab266c1",
   "metadata": {},
   "source": [
    "## History Quiz\n",
    "\n",
    "Our main goal is to use LangChain and Python to create a very simple class with a few methods for:\n",
    "* Writing a historical question that has a date as the correct answer\n",
    "* Getting the correct answer from LLM\n",
    "* Getting a Human user's best guess at at correct answer\n",
    "* Checking/reporting the difference between the correct answer and the user answer"
   ]
  },
  {
   "cell_type": "markdown",
   "id": "6421bf0c-6aca-4291-9aaf-473b78b9be77",
   "metadata": {},
   "source": [
    "### Suggested Imports\n",
    "\n",
    "Feel free to accomplish this task however you prefer!"
   ]
  },
  {
   "cell_type": "code",
   "execution_count": 1,
   "id": "3cde30a6-5b0b-475f-9460-809e174cac97",
   "metadata": {},
   "outputs": [],
   "source": [
    "from langchain.prompts import (\n",
    "    ChatPromptTemplate,\n",
    "    PromptTemplate,\n",
    "    SystemMessagePromptTemplate,\n",
    "    AIMessagePromptTemplate,\n",
    "    HumanMessagePromptTemplate,\n",
    ")\n",
    "from datetime import datetime\n",
    "from langchain.llms import OpenAI\n",
    "from langchain.output_parsers import DatetimeOutputParser\n",
    "# from langchain.chat_models import ChatOpenAI\n",
    "\n",
    "from dotenv import load_dotenv\n",
    "import os\n",
    "load_dotenv()\n",
    "KEY = os.getenv(\"API_KEY\")\n",
    "\n",
    "from langchain_openai import ChatOpenAI\n",
    "model = ChatOpenAI(api_key=KEY)"
   ]
  },
  {
   "cell_type": "code",
   "execution_count": 26,
   "id": "c1e1fce6-7f28-4d74-a92b-0424c6abcd30",
   "metadata": {},
   "outputs": [],
   "source": [
    "class HistoryQuiz():\n",
    "    \n",
    "    def create_history_question(self,topic):\n",
    "        '''\n",
    "        This method should output a historical question about the topic that has a date as the correct answer.\n",
    "        For example:\n",
    "        \n",
    "            \"On what date did World War 2 end?\"\n",
    "            \n",
    "        '''\n",
    "        system_template = \"You are a tutor in history subject. You will give one question about the topic that requested by the user that has a date as the correct answer.\"\n",
    "        system_prompt = SystemMessagePromptTemplate.from_template(system_template)\n",
    "\n",
    "        human_template = \"{topic}\"\n",
    "        human_prompt = HumanMessagePromptTemplate.from_template(human_template)\n",
    "\n",
    "        chat_prompt = ChatPromptTemplate.from_messages([system_prompt,human_prompt])\n",
    "        request = chat_prompt.format_prompt(topic = topic).to_messages()\n",
    "        response = model.invoke(request)\n",
    "        question = response.content\n",
    "        return question\n",
    "    \n",
    "    def get_AI_answer(self,question):\n",
    "        '''\n",
    "        This method should get the answer to the historical question from the method above.\n",
    "        Note: This answer must be in datetime format! Use DateTimeOutputParser to confirm!\n",
    "        \n",
    "        September 2, 1945 --> datetime.datetime(1945, 9, 2, 0, 0)\n",
    "        '''\n",
    "        dt_parser = DatetimeOutputParser()\n",
    "        human_template = \"{question}\\n{format_instructions}\"\n",
    "        human_prompt = HumanMessagePromptTemplate.from_template(human_template)\n",
    "        chat_prompt = ChatPromptTemplate.from_messages([human_prompt])\n",
    "        request = chat_prompt.format_prompt(question=question, format_instructions=dt_parser.get_format_instructions()).to_messages()\n",
    "        response = model.invoke(request)\n",
    "        correct_datetime = dt_parser.parse(response.content)\n",
    "\n",
    "        return correct_datetime\n",
    "    \n",
    "    def get_user_answer(self,question):\n",
    "        '''\n",
    "        This method should grab a user answer and convert it to datetime. It should collect a Year, Month, and Day.\n",
    "        You can just use input() for this.\n",
    "        '''\n",
    "        print(f\"{question}?\")\n",
    "        input_year = \"1950\"\n",
    "        input_month = \"6\"\n",
    "        input_date = \"22\"\n",
    "        dt_answer = f\"{input_year}-{input_month.zfill(2)}-{input_date.zfill(2)}\"\n",
    "        user_datetime = datetime.strptime(dt_answer,\"%Y-%m-%d\") \n",
    "        return user_datetime\n",
    "        \n",
    "        \n",
    "    def check_user_answer(self,user_answer,ai_answer):\n",
    "        '''\n",
    "        Should check the user answer against the AI answer and return the difference between them\n",
    "        '''\n",
    "        diff = user_answer - ai_answer\n",
    "        print(diff)\n",
    "        # print or return the difference between the answers here!\n",
    "        pass\n",
    "        "
   ]
  },
  {
   "cell_type": "markdown",
   "id": "ff79a31c-3189-48d2-b1af-bf1a9eef9e1c",
   "metadata": {},
   "source": [
    "### Example Usage\n",
    "\n",
    "Feel free to expand or edit this project. To keep things simple we have every method return an object that will then feed into a new method!"
   ]
  },
  {
   "cell_type": "code",
   "execution_count": 27,
   "id": "937e4900-1148-4836-835b-dd2936b8e30e",
   "metadata": {},
   "outputs": [],
   "source": [
    "quiz_bot = HistoryQuiz()"
   ]
  },
  {
   "cell_type": "code",
   "execution_count": 9,
   "id": "5dd56ef3-819d-4996-b9a5-1cfad88e5eed",
   "metadata": {},
   "outputs": [],
   "source": [
    "question = quiz_bot.create_history_question(topic='World War 2')"
   ]
  },
  {
   "cell_type": "code",
   "execution_count": 10,
   "id": "9eecb542-6018-4526-9f89-24f031468829",
   "metadata": {},
   "outputs": [
    {
     "data": {
      "text/plain": [
       "'Question: On what date did World War II begin?'"
      ]
     },
     "execution_count": 10,
     "metadata": {},
     "output_type": "execute_result"
    }
   ],
   "source": [
    "question"
   ]
  },
  {
   "cell_type": "code",
   "execution_count": 28,
   "id": "c86320ce-4497-4eb0-80f5-871736cb51e7",
   "metadata": {},
   "outputs": [],
   "source": [
    "ai_answer = quiz_bot.get_AI_answer(question)"
   ]
  },
  {
   "cell_type": "code",
   "execution_count": 29,
   "id": "4be20b47-8287-4656-8253-1ec1c52fad43",
   "metadata": {},
   "outputs": [
    {
     "data": {
      "text/plain": [
       "datetime.datetime(1939, 9, 1, 0, 0)"
      ]
     },
     "execution_count": 29,
     "metadata": {},
     "output_type": "execute_result"
    }
   ],
   "source": [
    "# Day After Pearl Harbor\n",
    "ai_answer"
   ]
  },
  {
   "cell_type": "code",
   "execution_count": 30,
   "id": "d8537e7e-b955-4ffd-84ba-a26d072b4a05",
   "metadata": {},
   "outputs": [
    {
     "name": "stdout",
     "output_type": "stream",
     "text": [
      "Question: On what date did World War II begin??\n"
     ]
    }
   ],
   "source": [
    "user_answer = quiz_bot.get_user_answer(question)"
   ]
  },
  {
   "cell_type": "code",
   "execution_count": 31,
   "id": "e8eb40a9-789e-4666-81a6-a6a783dedaf6",
   "metadata": {},
   "outputs": [
    {
     "data": {
      "text/plain": [
       "datetime.datetime(1950, 6, 22, 0, 0)"
      ]
     },
     "execution_count": 31,
     "metadata": {},
     "output_type": "execute_result"
    }
   ],
   "source": [
    "user_answer"
   ]
  },
  {
   "cell_type": "code",
   "execution_count": 32,
   "id": "e22a7cf0-f199-4ace-a909-c73492e86e47",
   "metadata": {},
   "outputs": [
    {
     "name": "stdout",
     "output_type": "stream",
     "text": [
      "3947 days, 0:00:00\n"
     ]
    }
   ],
   "source": [
    "quiz_bot.check_user_answer(user_answer,ai_answer)"
   ]
  }
 ],
 "metadata": {
  "kernelspec": {
   "display_name": "langchain-py3.12 (3.12.3)",
   "language": "python",
   "name": "python3"
  },
  "language_info": {
   "codemirror_mode": {
    "name": "ipython",
    "version": 3
   },
   "file_extension": ".py",
   "mimetype": "text/x-python",
   "name": "python",
   "nbconvert_exporter": "python",
   "pygments_lexer": "ipython3",
   "version": "3.12.3"
  }
 },
 "nbformat": 4,
 "nbformat_minor": 5
}
